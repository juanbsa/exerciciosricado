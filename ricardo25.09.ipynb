{
  "cells": [
    {
      "cell_type": "markdown",
      "metadata": {
        "id": "dhoaBT61NIdO"
      },
      "source": [
        "**1 - Calculo Media 2 notas**\n"
      ]
    },
    {
      "cell_type": "code",
      "execution_count": 3,
      "metadata": {
        "colab": {
          "base_uri": "https://localhost:8080/"
        },
        "id": "fmjmpH6tNMy1",
        "outputId": "7d330e12-bc92-4e27-f531-0f4f6a96200d"
      },
      "outputs": [
        {
          "name": "stdout",
          "output_type": "stream",
          "text": [
            "Sua media final e:  3.0\n"
          ]
        }
      ],
      "source": [
        "def med(n1,n2):\n",
        "  med = (n1+n2)/2\n",
        "  print(\"Sua media final e: \", med)\n",
        "\n",
        "n1 = int(input(\"Informe a primeira nota: \"))\n",
        "n2 = int(input(\"Informe a segunda nota: \"))\n",
        "\n",
        "med(n1,n2)"
      ]
    },
    {
      "cell_type": "markdown",
      "metadata": {
        "id": "UIyBgt1UR3j8"
      },
      "source": [
        "**2 - Calculo Desconto em Valor %**"
      ]
    },
    {
      "cell_type": "code",
      "execution_count": 4,
      "metadata": {
        "colab": {
          "base_uri": "https://localhost:8080/"
        },
        "id": "lyDL_eMVR86j",
        "outputId": "84447881-82bc-40c6-ed0c-9a5cb427dbff"
      },
      "outputs": [
        {
          "name": "stdout",
          "output_type": "stream",
          "text": [
            "Valor atual é: R$ 250\n",
            "Valor do percentual:  90.0 %\n",
            "Valor final: R$ 25.0\n"
          ]
        }
      ],
      "source": [
        "def desconto(valor, perc):\n",
        "  desconto = valor - (valor * perc)\n",
        "  percentual = perc * 100\n",
        "\n",
        "  print (\"Valor atual é: R$\", valor)\n",
        "  print (\"Valor do percentual: \",percentual,\"%\")\n",
        "  print (\"Valor final: R$\",desconto)\n",
        "\n",
        "desconto(250, 0.9)"
      ]
    },
    {
      "cell_type": "markdown",
      "metadata": {
        "id": "uf8d3DY_VOEb"
      },
      "source": [
        "**3 - Calculo Dias Perdidos de Um Fumante**"
      ]
    },
    {
      "cell_type": "code",
      "execution_count": 5,
      "metadata": {
        "colab": {
          "base_uri": "https://localhost:8080/"
        },
        "id": "hzKu9UHyVXZM",
        "outputId": "d159dc07-c3e8-4563-dbce-fe249efa4e0e"
      },
      "outputs": [
        {
          "name": "stdout",
          "output_type": "stream",
          "text": [
            "O fumante perdeu:  30.416666666666664\n"
          ]
        }
      ],
      "source": [
        "def percaDias(qtdCigarro, qtdAnos):\n",
        "  qtdDias = qtdAnos * 365\n",
        "  percaMinutos = (qtdCigarro * 10)\n",
        "  minutoHora = percaMinutos / 60\n",
        "  horaDias = minutoHora / 24\n",
        "  percaDias = horaDias * qtdDias\n",
        "\n",
        "  print(\"O fumante perdeu: \", percaDias)\n",
        "\n",
        "qtdCigarro = int(input(\"Quantos cigarros você fuma por dia?: \"))\n",
        "qtdAnos = int(input(\"A quantos anos você fuma?: \"))\n",
        "\n",
        "percaDias(qtdCigarro, qtdAnos)"
      ]
    },
    {
      "cell_type": "markdown",
      "metadata": {
        "id": "_cExRvdQXtvg"
      },
      "source": [
        "**4 - Máquina Registradora**"
      ]
    },
    {
      "cell_type": "code",
      "execution_count": null,
      "metadata": {
        "id": "WViS4HweXxHw"
      },
      "outputs": [],
      "source": [
        "preco = 0\n",
        "while True:\n",
        "\n",
        "  escolha = int(input(\"Escolha um dos numeros na nossa tabela de preços: \\n 1 == R$ 0,50 \\n 2 == R$ 1,00 \\n 3 == R$4,00 \\n 5 == R$7,00 \\n 9 == R$8,00 \\n 0 == Sair \\nEscolha aqui: \"))\n",
        "  quantidade = int (input(\"Escolha a quantidade: \"))\n",
        "  print(\"\\n\\n\")\n",
        "\n",
        "  if escolha == 0:\n",
        "    break\n",
        "  elif escolha == 1:\n",
        "    preco = preco + 0.5\n",
        "    preco = preco * quantidade\n",
        "  elif escolha == 2:\n",
        "    preco = preco + 1\n",
        "    preco = preco * quantidade\n",
        "  elif escolha == 3:\n",
        "    preco = preco + 4\n",
        "    preco = preco * quantidade\n",
        "  elif escolha == 5:\n",
        "    preco = preco + 7\n",
        "    preco = preco * quantidade\n",
        "  elif escolha == 9:\n",
        "    preco = preco + 8\n",
        "    preco = preco * quantidade\n",
        "  else:\n",
        "    print(\"Inválido!\")\n",
        "\n",
        "print(\"O valor total da compra foi: R$\",preco)"
      ]
    },
    {
      "cell_type": "markdown",
      "metadata": {
        "id": "hTPfNgfJld9C"
      },
      "source": [
        "**4.1 - Máquina Registradora (java)**\n",
        "\n",
        "\n",
        "\n",
        "```\n",
        "# import java.util.Scanner;\n",
        "\n",
        "public class Main {\n",
        "    public static void main(String[] args)\n",
        "    {\n",
        "        Scanner teclado = new Scanner(System.in);\n",
        "        int escolha = 1;\n",
        "        double valor = 0;\n",
        "        int quantidade;\n",
        "\n",
        "        while (escolha != 0){\n",
        "            System.out.println(\"Escolha um número na nossa tabela de preços: \\n 1 == R$0,50 \\n 2 == R$1,00 \\n 3 == R$4,00 \\n 5 == R$7,00 \\n 9 == R$8,00 \\n 0 == Sair \\nEscolha aqui: \");\n",
        "            escolha = teclado.nextInt();\n",
        "            switch (escolha){\n",
        "                case 0:\n",
        "                    break;\n",
        "                case 1:\n",
        "                    valor = valor + 0.5;\n",
        "                    break;\n",
        "                case 2:\n",
        "                    valor = valor + 1;\n",
        "                    break;\n",
        "                case 3:\n",
        "                    valor = valor + 4;\n",
        "                    break;\n",
        "                case 5:\n",
        "                    valor = valor + 7;\n",
        "                    break;\n",
        "                case 9:\n",
        "                    valor = valor + 8;\n",
        "                    break;\n",
        "                default:\n",
        "                    System.out.println(\"Inválido\");\n",
        "                    break;\n",
        "            }\n",
        "            if (escolha != 0){\n",
        "                System.out.println(\"Digite a quantidade: \");\n",
        "                quantidade = teclado.nextInt();\n",
        "                valor = valor * quantidade;\n",
        "            }\n",
        "        }\n",
        "\n",
        "        System.out.println(\"O valor total da sua compra foi: R$\"+valor);\n",
        "\n",
        "        teclado.close();\n",
        "    }\n",
        "}\n",
        "```\n",
        "\n"
      ]
    },
    {
      "cell_type": "markdown",
      "metadata": {
        "id": "nkM8Y-4MpDOu"
      },
      "source": [
        "**4.2 - Máquina Registradora (go)**\n",
        "\n",
        "\n",
        "\n",
        "```\n",
        "# package main\n",
        "\n",
        "import (\n",
        "\t\"fmt\"\n",
        ")\n",
        "\n",
        "func main() {\n",
        "\tescolha := 1\n",
        "\tvalor := 0.0\n",
        "\tquantidade := 0\n",
        "\n",
        "\tfor escolha != 0 {\n",
        "\t\tfmt.Println(\"Escolha um número na nossa tabela de preços:\")\n",
        "\t\tfmt.Println(\"1 == R$0,50\")\n",
        "\t\tfmt.Println(\"2 == R$1,00\")\n",
        "\t\tfmt.Println(\"3 == R$4,00\")\n",
        "\t\tfmt.Println(\"5 == R$7,00\")\n",
        "\t\tfmt.Println(\"9 == R$8,00\")\n",
        "\t\tfmt.Println(\"0 == Sair\")\n",
        "\t\tfmt.Print(\"Escolha aqui: \")\n",
        "\t\tfmt.Scan(&escolha)\n",
        "\n",
        "\t\tswitch escolha {\n",
        "\t\tcase 0:\n",
        "\t\t\tbreak\n",
        "\t\tcase 1:\n",
        "\t\t\tvalor += 0.50\n",
        "\t\tcase 2:\n",
        "\t\t\tvalor += 1.00\n",
        "\t\tcase 3:\n",
        "\t\t\tvalor += 4.00\n",
        "\t\tcase 5:\n",
        "\t\t\tvalor += 7.00\n",
        "\t\tcase 9:\n",
        "\t\t\tvalor += 8.00\n",
        "\t\tdefault:\n",
        "\t\t\tfmt.Println(\"Opção inválida\")\n",
        "\t\t\tcontinue\n",
        "\t\t}\n",
        "\n",
        "\t\tif escolha != 0 {\n",
        "\t\t\tfmt.Print(\"Digite a quantidade: \")\n",
        "\t\t\tfmt.Scan(&quantidade)\n",
        "\t\t\tvalor *= float64(quantidade)\n",
        "\t\t}\n",
        "\t}\n",
        "\n",
        "\tfmt.Printf(\"O valor total da sua  compra foi: R$%.2f\\n\", valor)\n",
        "}\n",
        "```\n",
        "\n"
      ]
    },
    {
      "cell_type": "markdown",
      "metadata": {
        "id": "kZ6lb_5Dd09m"
      },
      "source": [
        "**5 - Soma elementos vetor**"
      ]
    },
    {
      "cell_type": "code",
      "execution_count": null,
      "metadata": {
        "colab": {
          "base_uri": "https://localhost:8080/"
        },
        "id": "qcFKPwzKd_cG",
        "outputId": "2362a2b1-8a42-4b63-e788-ae55433a99fd"
      },
      "outputs": [],
      "source": [
        "vetor = [0] * 8\n",
        "\n",
        "for i in range(8):\n",
        "  vetor[i] = int(input(\"Digite um número: \"))\n",
        "\n",
        "x = int(input(\"Digite uma posição no vetor acima: \"))\n",
        "y = int(input(\"Digite uma posição no vetor acima: \"))\n",
        "\n",
        "soma = vetor[x] + vetor[y]\n",
        "\n",
        "print(\"O resultado da função 'X + Y' é: \",soma)"
      ]
    },
    {
      "cell_type": "markdown",
      "metadata": {
        "id": "zkAJXRmGjls9"
      },
      "source": [
        "**6 - Analise de vetor e calculo estatistico**"
      ]
    },
    {
      "cell_type": "code",
      "execution_count": 8,
      "metadata": {
        "colab": {
          "base_uri": "https://localhost:8080/"
        },
        "id": "nIGR8r3LjrHl",
        "outputId": "5cb9f0e9-f355-4035-c74b-075c15c8b3ae"
      },
      "outputs": [
        {
          "name": "stdout",
          "output_type": "stream",
          "text": [
            "O maior valor:  2\n",
            "O menor valor:  1\n",
            "A soma de todos:  4\n",
            "A média:  1.3333333333333333\n",
            "Tem 0 número(s) acima de 5\n"
          ]
        }
      ],
      "source": [
        "vetor = []\n",
        "\n",
        "for i in range(3):\n",
        "  vetor.append(int(input(\"Digite o elemento %d: \"% i)))\n",
        "\n",
        "maior = vetor[0]\n",
        "menor = vetor[0]\n",
        "soma = vetor[0]\n",
        "media = 0\n",
        "acimaCinco = 0\n",
        "\n",
        "for i in range(1, len(vetor)):\n",
        "  if vetor[i] > maior:\n",
        "    maior = vetor[i]\n",
        "  elif vetor[i] < menor:\n",
        "    menor = vetor[i]\n",
        "\n",
        "  soma += vetor[i]\n",
        "\n",
        "  if vetor[i] > 5:\n",
        "    acimaCinco = acimaCinco + 1\n",
        "\n",
        "media = soma / len(vetor)\n",
        "\n",
        "print(\"O maior valor: \",maior)\n",
        "print(\"O menor valor: \",menor)\n",
        "print(\"A soma de todos: \",soma)\n",
        "print(\"A média: \",media)\n",
        "print(\"Tem %d número(s) acima de 5\"%acimaCinco)"
      ]
    }
  ],
  "metadata": {
    "colab": {
      "provenance": []
    },
    "kernelspec": {
      "display_name": "Python 3",
      "name": "python3"
    },
    "language_info": {
      "codemirror_mode": {
        "name": "ipython",
        "version": 3
      },
      "file_extension": ".py",
      "mimetype": "text/x-python",
      "name": "python",
      "nbconvert_exporter": "python",
      "pygments_lexer": "ipython3",
      "version": "3.11.3"
    }
  },
  "nbformat": 4,
  "nbformat_minor": 0
}
